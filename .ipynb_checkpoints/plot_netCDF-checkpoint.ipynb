{
 "cells": [
  {
   "cell_type": "markdown",
   "metadata": {},
   "source": [
    "# netCDF plotting tool guided towards DEHM and its input data"
   ]
  },
  {
   "cell_type": "markdown",
   "metadata": {},
   "source": [
    "## Info and imported packages\n",
    "---"
   ]
  },
  {
   "cell_type": "code",
   "execution_count": 2,
   "metadata": {},
   "outputs": [],
   "source": [
    "# Author: Zhuyun Ye, Niels S. Hvidberg\n",
    "# copied to Niels 01/03 2024\n",
    "# Description: Python script usefull for working with NetCDF\n",
    "#              and contain tools to convert DEHM binary output \n",
    "#              to NetCDF files. The conversion requires a \n",
    "#              species file which is not present in the current\n",
    "#              SPA_DEHM model."
   ]
  },
  {
   "cell_type": "code",
   "execution_count": 3,
   "metadata": {},
   "outputs": [],
   "source": [
    "# Import packages\n",
    "import numpy as np\n",
    "import xarray as xr\n",
    "import cartopy.crs as ccrs\n",
    "import matplotlib.pyplot as plt\n",
    "import datetime as dt\n",
    "from mpl_toolkits.axes_grid1 import make_axes_locatable"
   ]
  },
  {
   "cell_type": "markdown",
   "metadata": {},
   "source": [
    "## Opening netCDF files for plotting\n",
    "---"
   ]
  },
  {
   "cell_type": "markdown",
   "metadata": {},
   "source": [
    "### Functions"
   ]
  },
  {
   "cell_type": "code",
   "execution_count": 4,
   "metadata": {},
   "outputs": [],
   "source": [
    "# Printing text in colors\n",
    "class bcolors:\n",
    "    HEADER = '\\033[95m'\n",
    "    OKBLUE = '\\033[94m'\n",
    "    OKCYAN = '\\033[96m'\n",
    "    OKGREEN = '\\033[92m'\n",
    "    WARNING = '\\033[93m'\n",
    "    FAIL = '\\033[91m'\n",
    "    ENDC = '\\033[0m'\n",
    "    BOLD = '\\033[1m'\n",
    "    UNDERLINE = '\\033[4m'\n"
   ]
  },
  {
   "cell_type": "code",
   "execution_count": 5,
   "metadata": {},
   "outputs": [],
   "source": [
    "def show(xr_dataset):\n",
    "    \"\"\"\n",
    "    This function gives you a way to display xarray datasets per command, instead of implicitly\n",
    "    by calling the dataset instance as the last thing in a cell.\n",
    "    \"\"\"\n",
    "    from IPython.display import display, HTML\n",
    "    from xarray.core.formatting_html import dataset_repr\n",
    "    display(HTML(dataset_repr(xr_dataset)))"
   ]
  },
  {
   "cell_type": "code",
   "execution_count": 6,
   "metadata": {},
   "outputs": [],
   "source": [
    "def xr_open_old(data_dir, days=[1, 31], hours=[0, 23]):\n",
    "    infile = []\n",
    "    dataset = []\n",
    "    for i in range(days[0], days[1]+1):\n",
    "        if (i == 1):\n",
    "            z = 1\n",
    "        else:\n",
    "            z = 0\n",
    "    \n",
    "        for j in range(z+hours[0], hours[1]+1):\n",
    "            name = f'201101{i:02d}{j:02d}.nc'\n",
    "            infile.append(data_dir+'/'+name)\n",
    "            dataset.append(xr.open_dataset(infile[-1]))\n",
    "    \n",
    "    return dataset\n",
    "\n",
    "def xr_open(data_dir, days=[1, 31], hours=[0, 23]):\n",
    "    infile = []\n",
    "    dataset = []\n",
    "    for i in range(days[0], days[1]+1):\n",
    "        if (i == 1):\n",
    "            z = 1\n",
    "        else:\n",
    "            z = 0\n",
    "    \n",
    "        for j in range(z+hours[0], hours[1]+1):\n",
    "            name = f'1_201101{i:02d}{j:02d}.nc'\n",
    "            infile.append(data_dir+'/'+name)\n",
    "            dataset.append(xr.open_dataset(infile[-1]))\n",
    "    \n",
    "    return dataset"
   ]
  },
  {
   "cell_type": "markdown",
   "metadata": {},
   "source": [
    "### Opening dataset"
   ]
  },
  {
   "cell_type": "code",
   "execution_count": 2,
   "metadata": {},
   "outputs": [
    {
     "ename": "NameError",
     "evalue": "name 'xr' is not defined",
     "output_type": "error",
     "traceback": [
      "\u001b[0;31m---------------------------------------------------------------------------\u001b[0m",
      "\u001b[0;31mNameError\u001b[0m                                 Traceback (most recent call last)",
      "Cell \u001b[0;32mIn[2], line 55\u001b[0m\n\u001b[1;32m     53\u001b[0m infile2 \u001b[38;5;241m=\u001b[39m \u001b[38;5;124m'\u001b[39m\u001b[38;5;124m/home/niels/WinDoc/Data/CT/CT-NRT.v2024-1.molefrac_components_nam1x1_2023-10-12.nc\u001b[39m\u001b[38;5;124m'\u001b[39m\n\u001b[1;32m     54\u001b[0m infile3 \u001b[38;5;241m=\u001b[39m \u001b[38;5;124m'\u001b[39m\u001b[38;5;124m/home/niels/WinDoc/Data/CT/CT-NRT.v2024-1.molefrac_nam1x1_2023-10-12.nc\u001b[39m\u001b[38;5;124m'\u001b[39m\n\u001b[0;32m---> 55\u001b[0m ds1 \u001b[38;5;241m=\u001b[39m xr\u001b[38;5;241m.\u001b[39mopen_dataset(infile1)\n\u001b[1;32m     56\u001b[0m ds2 \u001b[38;5;241m=\u001b[39m xr\u001b[38;5;241m.\u001b[39mopen_dataset(infile2)\n\u001b[1;32m     57\u001b[0m ds3 \u001b[38;5;241m=\u001b[39m xr\u001b[38;5;241m.\u001b[39mopen_dataset(infile3)\n",
      "\u001b[0;31mNameError\u001b[0m: name 'xr' is not defined"
     ]
    }
   ],
   "source": [
    "# Choose case and scroll down to the relevant section\n",
    "data = 'CT'\n",
    "# DEHM data\n",
    "if data == 'dehm4':\n",
    "    dir1 = 'netcdf1'\n",
    "    dir2 = 'netcdf2'\n",
    "    dir3 = 'netcdf3'\n",
    "    dir4 = 'netcdf4'\n",
    "    \n",
    "    ds1 = xr_open_old(dir1)\n",
    "    ds2 = xr_open_old(dir2)\n",
    "    ds3 = xr_open_old(dir3)\n",
    "    ds4 = xr_open_old(dir4)\n",
    "    ds = ds1\n",
    "    show(ds[0])\n",
    "\n",
    "elif data == 'dehm test':\n",
    "    ds1 = xr.open_dataset('4_2020010101.nc')\n",
    "    #ds2 = xr.open_dataset('nc/jena.nc')\n",
    "    ds=ds1\n",
    "    show(ds)\n",
    "    \n",
    "elif data == 'dehm input':\n",
    "    dir1 = 'only_cams_glob/2011/netcdf'\n",
    "    dir2 = 'only_jena_ocn/2011/netcdf'\n",
    "    \n",
    "    ds1 = xr_open(dir1)\n",
    "    ds2 = xr_open(dir1)\n",
    "    ds = ds1\n",
    "    show(ds[0])\n",
    "\n",
    "# CAMS-GLOB data\n",
    "elif data == 'cams-glob':\n",
    "    infile = '/home/niels/WinDoc/Data/CAMS/CAMS-GLOB/CAMS-GLOB-ANT_Glb_0.1x0.1_anthro_co2_excl_short-cycle_org_C_v5.3_monthly.nc'\n",
    "    ds  = xr.open_dataset(infile)\n",
    "    show(ds)\n",
    "\n",
    "elif data == 'cams-reg':\n",
    "    infile = '/home/niels/WinDoc/Data/CAMS/CAMS-REG/CAMS-REG-GHG_v6_0_emissions_year2020.nc'\n",
    "    ds  = xr.open_dataset(infile)\n",
    "    show(ds)\n",
    "\n",
    "# Jena data\n",
    "elif data == 'jena': \n",
    "    infile = '/home/niels/WinDoc/Data/JENA/oc_v2023.pCO2.nc'\n",
    "    ds_jena = xr.open_dataset(infile)\n",
    "    ds = ds_jena\n",
    "    show(ds)\n",
    "\n",
    "# Carbon Tracker data\n",
    "elif data == 'CT': \n",
    "    infile1 = '/home/niels/WinDoc/Data/CT/CT-NRT.v2024-1.flux1x1.20231012.nc'\n",
    "    infile2 = '/home/niels/WinDoc/Data/CT/CT-NRT.v2024-1.molefrac_components_nam1x1_2023-10-12.nc'\n",
    "    infile3 = '/home/niels/WinDoc/Data/CT/CT-NRT.v2024-1.molefrac_nam1x1_2023-10-12.nc'\n",
    "    ds1 = xr.open_dataset(infile1)\n",
    "    ds2 = xr.open_dataset(infile2)\n",
    "    ds3 = xr.open_dataset(infile3)\n",
    "    ds = ds2\n",
    "    show(ds)"
   ]
  },
  {
   "cell_type": "code",
   "execution_count": 19,
   "metadata": {},
   "outputs": [
    {
     "data": {
      "text/plain": [
       "numpy.datetime64('2020-06-01T00:00:00.000000000')"
      ]
     },
     "execution_count": 19,
     "metadata": {},
     "output_type": "execute_result"
    }
   ],
   "source": [
    "ds.time.values[245]"
   ]
  },
  {
   "cell_type": "code",
   "execution_count": 9,
   "metadata": {},
   "outputs": [
    {
     "data": {
      "text/plain": [
       "(1998, 4)"
      ]
     },
     "execution_count": 9,
     "metadata": {},
     "output_type": "execute_result"
    }
   ],
   "source": [
    "def get_month(year,month,first_month):\n",
    "    month = (month + (12-first_month)) % 12\n",
    "    year  = year - month//(11-first_month+1)\n",
    "\n",
    "    return year, month \n",
    "\n",
    "get_month(2000,3,11)"
   ]
  },
  {
   "cell_type": "markdown",
   "metadata": {},
   "source": [
    "## Working with dehm data to create animations\n",
    "---"
   ]
  },
  {
   "cell_type": "markdown",
   "metadata": {
    "jp-MarkdownHeadingCollapsed": true
   },
   "source": [
    "### Functions"
   ]
  },
  {
   "cell_type": "code",
   "execution_count": 27,
   "metadata": {},
   "outputs": [],
   "source": [
    "def dehm_plotter(dataset, index=12, meandim='z', species=\"CO2.01\", close=False, central_longitude=-32, output_dir='frames'):\n",
    "    \"\"\"\n",
    "    Docstring for dehm_plotter:\n",
    "        This function is used to plot netCDF files (output from DEHM) on a polar\n",
    "        stereographic map.\n",
    "\n",
    "        dataset: A list of xarray-dataset objects with 3D field data.\n",
    "        index: The index for the specific dataset to workwith in dataset list.\n",
    "        meandim: Calculate the mean over this dimension. Most often 'time' or 'z'.\n",
    "        species: the kind to plot. For DEHM CO2 the tracers are called CO2.ntrac \n",
    "        (1 indexing!).\n",
    "\n",
    "        The function creates a plot, saves it and can also close the plot again. The\n",
    "        plot is saved under the name:\n",
    "        \n",
    "            f'{output_dir}/frame{index:03d}.png'\n",
    "    \"\"\"\n",
    "    if meandim:\n",
    "        da = dataset[index][species].mean(dim=meandim)\n",
    "        lat = dataset[index]['lat'].values\n",
    "        lon = dataset[index]['lon'].values\n",
    "    if meandim == 0:\n",
    "        da = dataset[species].isel(z=0)\n",
    "        lat = dataset['lat'].values\n",
    "        lon = dataset['lon'].values\n",
    "    else:\n",
    "        da = dataset[index][species].isel(z=0)\n",
    "        lat = dataset[index]['lat'].values\n",
    "        lon = dataset[index]['lon'].values\n",
    "        \n",
    "\n",
    "    \n",
    "    # Get values\n",
    "    pdata = da.values\n",
    "\n",
    "    # Set min/max values for plots:\n",
    "    vmin = da.min()\n",
    "    vmax = da.max()*0.9\n",
    "    \n",
    "    # This is the map projection we want to plot *onto*\n",
    "    map_proj = ccrs.NorthPolarStereo(central_longitude=central_longitude)\n",
    "    fig, ax = plt.subplots(subplot_kw={'projection': map_proj}, figsize=(7,7))\n",
    "\n",
    "    # Set coastline appearance\n",
    "    ax.coastlines(color='black',zorder=2,alpha=1,linewidth=1.5)\n",
    "\n",
    "    # Set gridlines appearance\n",
    "    gl = ax.gridlines(draw_labels=True, zorder=1, alpha=0.7, linewidth=1, crs=ccrs.PlateCarree())\n",
    "\n",
    "    # Set label style\n",
    "    gl.xlabel_style = {'size':7}\n",
    "    gl.ylabel_style = {'size':7}\n",
    "    \n",
    "    # Set colormap\n",
    "    cmap = plt.get_cmap('jet')\n",
    "    cmap.set_bad('w',1.0)\n",
    "\n",
    "    # Plot image\n",
    "    im = ax.pcolormesh(lon,\n",
    "                       lat,\n",
    "                       pdata,\n",
    "                       cmap=cmap,\n",
    "                       vmin=vmin, # Min value for colormap (especially used for videos)\n",
    "                       vmax=vmax, # Max value for colormap\n",
    "                       transform=ccrs.PlateCarree(),\n",
    "                       zorder=0,  # ?\n",
    "                       shading='auto')\n",
    "\n",
    "    # Colorbar\n",
    "    fig.colorbar(im, ax=ax)\n",
    "    \n",
    "    # Check if plot should be closed and saved instead of shown (Used for creating frames)\n",
    "    if close:\n",
    "        plt.savefig(f'{output_dir}/frame{index:03d}.png')\n",
    "        plt.close(fig)\n",
    "\n",
    "def make_frames_from_list(dataset, meandim, species, central_longitude=-32, output_dir='frames'):\n",
    "    index = 0\n",
    "    for i in range(1,32):\n",
    "        if (i == 1):\n",
    "            z = 1\n",
    "        else:\n",
    "            z = 0\n",
    "    \n",
    "        for j in range(z,24):\n",
    "            dehm_plotter(dataset=dataset, index=index, meandim=meandim, species=species, close=True, central_longitude=central_longitude, output_dir=output_dir)\n",
    "            index += 1"
   ]
  },
  {
   "cell_type": "markdown",
   "metadata": {
    "jp-MarkdownHeadingCollapsed": true
   },
   "source": [
    "### Plotting single frame"
   ]
  },
  {
   "cell_type": "code",
   "execution_count": 28,
   "metadata": {},
   "outputs": [],
   "source": [
    "species = f'CO2.{1:02d}'\n",
    "meandim = []\n",
    "central_longitude=-32"
   ]
  },
  {
   "cell_type": "code",
   "execution_count": 29,
   "metadata": {},
   "outputs": [
    {
     "ename": "KeyError",
     "evalue": "\"No variable named 'CO2.01'. Variables on the dataset include ['longitude', 'latitude', 'time', 'decimal_time', 'time_components', 'bio_flux_opt', 'ocn_flux_opt', 'fossil_flux_imp', 'fire_flux_imp']\"",
     "output_type": "error",
     "traceback": [
      "\u001b[0;31m---------------------------------------------------------------------------\u001b[0m",
      "\u001b[0;31mKeyError\u001b[0m                                  Traceback (most recent call last)",
      "\u001b[0;32m~/.local/lib/python3.10/site-packages/xarray/core/dataset.py\u001b[0m in \u001b[0;36m?\u001b[0;34m(self, name)\u001b[0m\n\u001b[1;32m   1445\u001b[0m             \u001b[0mvariable\u001b[0m \u001b[0;34m=\u001b[0m \u001b[0mself\u001b[0m\u001b[0;34m.\u001b[0m\u001b[0m_variables\u001b[0m\u001b[0;34m[\u001b[0m\u001b[0mname\u001b[0m\u001b[0;34m]\u001b[0m\u001b[0;34m\u001b[0m\u001b[0;34m\u001b[0m\u001b[0m\n\u001b[1;32m   1446\u001b[0m         \u001b[0;32mexcept\u001b[0m \u001b[0mKeyError\u001b[0m\u001b[0;34m:\u001b[0m\u001b[0;34m\u001b[0m\u001b[0;34m\u001b[0m\u001b[0m\n\u001b[0;32m-> 1447\u001b[0;31m             \u001b[0m_\u001b[0m\u001b[0;34m,\u001b[0m \u001b[0mname\u001b[0m\u001b[0;34m,\u001b[0m \u001b[0mvariable\u001b[0m \u001b[0;34m=\u001b[0m \u001b[0m_get_virtual_variable\u001b[0m\u001b[0;34m(\u001b[0m\u001b[0mself\u001b[0m\u001b[0;34m.\u001b[0m\u001b[0m_variables\u001b[0m\u001b[0;34m,\u001b[0m \u001b[0mname\u001b[0m\u001b[0;34m,\u001b[0m \u001b[0mself\u001b[0m\u001b[0;34m.\u001b[0m\u001b[0msizes\u001b[0m\u001b[0;34m)\u001b[0m\u001b[0;34m\u001b[0m\u001b[0;34m\u001b[0m\u001b[0m\n\u001b[0m\u001b[1;32m   1448\u001b[0m \u001b[0;34m\u001b[0m\u001b[0m\n",
      "\u001b[0;31mKeyError\u001b[0m: 'CO2.01'",
      "\nDuring handling of the above exception, another exception occurred:\n",
      "\u001b[0;31mKeyError\u001b[0m                                  Traceback (most recent call last)",
      "\u001b[0;32m~/.local/lib/python3.10/site-packages/xarray/core/dataset.py\u001b[0m in \u001b[0;36m?\u001b[0;34m(self, key)\u001b[0m\n\u001b[1;32m   1546\u001b[0m                 \u001b[0;32mreturn\u001b[0m \u001b[0mself\u001b[0m\u001b[0;34m.\u001b[0m\u001b[0m_construct_dataarray\u001b[0m\u001b[0;34m(\u001b[0m\u001b[0mkey\u001b[0m\u001b[0;34m)\u001b[0m\u001b[0;34m\u001b[0m\u001b[0;34m\u001b[0m\u001b[0m\n\u001b[1;32m   1547\u001b[0m             \u001b[0;32mexcept\u001b[0m \u001b[0mKeyError\u001b[0m \u001b[0;32mas\u001b[0m \u001b[0me\u001b[0m\u001b[0;34m:\u001b[0m\u001b[0;34m\u001b[0m\u001b[0;34m\u001b[0m\u001b[0m\n\u001b[0;32m-> 1548\u001b[0;31m                 raise KeyError(\n\u001b[0m\u001b[1;32m   1549\u001b[0m                     \u001b[0;34mf\"No variable named {key!r}. Variables on the dataset include {shorten_list_repr(list(self.variables.keys()), max_items=10)}\"\u001b[0m\u001b[0;34m\u001b[0m\u001b[0;34m\u001b[0m\u001b[0m\n",
      "\u001b[0;32m~/.local/lib/python3.10/site-packages/xarray/core/dataset.py\u001b[0m in \u001b[0;36m?\u001b[0;34m(self, name)\u001b[0m\n\u001b[1;32m   1445\u001b[0m             \u001b[0mvariable\u001b[0m \u001b[0;34m=\u001b[0m \u001b[0mself\u001b[0m\u001b[0;34m.\u001b[0m\u001b[0m_variables\u001b[0m\u001b[0;34m[\u001b[0m\u001b[0mname\u001b[0m\u001b[0;34m]\u001b[0m\u001b[0;34m\u001b[0m\u001b[0;34m\u001b[0m\u001b[0m\n\u001b[1;32m   1446\u001b[0m         \u001b[0;32mexcept\u001b[0m \u001b[0mKeyError\u001b[0m\u001b[0;34m:\u001b[0m\u001b[0;34m\u001b[0m\u001b[0;34m\u001b[0m\u001b[0m\n\u001b[0;32m-> 1447\u001b[0;31m             \u001b[0m_\u001b[0m\u001b[0;34m,\u001b[0m \u001b[0mname\u001b[0m\u001b[0;34m,\u001b[0m \u001b[0mvariable\u001b[0m \u001b[0;34m=\u001b[0m \u001b[0m_get_virtual_variable\u001b[0m\u001b[0;34m(\u001b[0m\u001b[0mself\u001b[0m\u001b[0;34m.\u001b[0m\u001b[0m_variables\u001b[0m\u001b[0;34m,\u001b[0m \u001b[0mname\u001b[0m\u001b[0;34m,\u001b[0m \u001b[0mself\u001b[0m\u001b[0;34m.\u001b[0m\u001b[0msizes\u001b[0m\u001b[0;34m)\u001b[0m\u001b[0;34m\u001b[0m\u001b[0;34m\u001b[0m\u001b[0m\n\u001b[0m\u001b[1;32m   1448\u001b[0m \u001b[0;34m\u001b[0m\u001b[0m\n",
      "\u001b[0;32m~/.local/lib/python3.10/site-packages/xarray/core/dataset.py\u001b[0m in \u001b[0;36m?\u001b[0;34m(variables, key, dim_sizes)\u001b[0m\n\u001b[1;32m    212\u001b[0m \u001b[0;34m\u001b[0m\u001b[0m\n\u001b[1;32m    213\u001b[0m     \u001b[0mref_name\u001b[0m\u001b[0;34m,\u001b[0m \u001b[0mvar_name\u001b[0m \u001b[0;34m=\u001b[0m \u001b[0msplit_key\u001b[0m\u001b[0;34m\u001b[0m\u001b[0;34m\u001b[0m\u001b[0m\n\u001b[0;32m--> 214\u001b[0;31m     \u001b[0mref_var\u001b[0m \u001b[0;34m=\u001b[0m \u001b[0mvariables\u001b[0m\u001b[0;34m[\u001b[0m\u001b[0mref_name\u001b[0m\u001b[0;34m]\u001b[0m\u001b[0;34m\u001b[0m\u001b[0;34m\u001b[0m\u001b[0m\n\u001b[0m\u001b[1;32m    215\u001b[0m \u001b[0;34m\u001b[0m\u001b[0m\n",
      "\u001b[0;31mKeyError\u001b[0m: 'CO2'",
      "\nThe above exception was the direct cause of the following exception:\n",
      "\u001b[0;31mKeyError\u001b[0m                                  Traceback (most recent call last)",
      "\u001b[0;32m/tmp/ipykernel_574/2706808525.py\u001b[0m in \u001b[0;36m?\u001b[0;34m()\u001b[0m\n\u001b[0;32m----> 1\u001b[0;31m dehm_plotter(dataset=ds1,\n\u001b[0m\u001b[1;32m      2\u001b[0m              \u001b[0mindex\u001b[0m\u001b[0;34m=\u001b[0m\u001b[0;36m100\u001b[0m\u001b[0;34m,\u001b[0m\u001b[0;34m\u001b[0m\u001b[0;34m\u001b[0m\u001b[0m\n\u001b[1;32m      3\u001b[0m \u001b[0;31m#            meandim=meandim,\u001b[0m\u001b[0;34m\u001b[0m\u001b[0;34m\u001b[0m\u001b[0m\n\u001b[1;32m      4\u001b[0m              \u001b[0mmeandim\u001b[0m\u001b[0;34m=\u001b[0m\u001b[0;36m0\u001b[0m\u001b[0;34m,\u001b[0m\u001b[0;34m\u001b[0m\u001b[0;34m\u001b[0m\u001b[0m\n",
      "\u001b[0;32m/tmp/ipykernel_574/1016040199.py\u001b[0m in \u001b[0;36m?\u001b[0;34m(dataset, index, meandim, species, close, central_longitude, output_dir)\u001b[0m\n\u001b[1;32m     19\u001b[0m         \u001b[0mda\u001b[0m \u001b[0;34m=\u001b[0m \u001b[0mdataset\u001b[0m\u001b[0;34m[\u001b[0m\u001b[0mindex\u001b[0m\u001b[0;34m]\u001b[0m\u001b[0;34m[\u001b[0m\u001b[0mspecies\u001b[0m\u001b[0;34m]\u001b[0m\u001b[0;34m.\u001b[0m\u001b[0mmean\u001b[0m\u001b[0;34m(\u001b[0m\u001b[0mdim\u001b[0m\u001b[0;34m=\u001b[0m\u001b[0mmeandim\u001b[0m\u001b[0;34m)\u001b[0m\u001b[0;34m\u001b[0m\u001b[0;34m\u001b[0m\u001b[0m\n\u001b[1;32m     20\u001b[0m         \u001b[0mlat\u001b[0m \u001b[0;34m=\u001b[0m \u001b[0mdataset\u001b[0m\u001b[0;34m[\u001b[0m\u001b[0mindex\u001b[0m\u001b[0;34m]\u001b[0m\u001b[0;34m[\u001b[0m\u001b[0;34m'lat'\u001b[0m\u001b[0;34m]\u001b[0m\u001b[0;34m.\u001b[0m\u001b[0mvalues\u001b[0m\u001b[0;34m\u001b[0m\u001b[0;34m\u001b[0m\u001b[0m\n\u001b[1;32m     21\u001b[0m         \u001b[0mlon\u001b[0m \u001b[0;34m=\u001b[0m \u001b[0mdataset\u001b[0m\u001b[0;34m[\u001b[0m\u001b[0mindex\u001b[0m\u001b[0;34m]\u001b[0m\u001b[0;34m[\u001b[0m\u001b[0;34m'lon'\u001b[0m\u001b[0;34m]\u001b[0m\u001b[0;34m.\u001b[0m\u001b[0mvalues\u001b[0m\u001b[0;34m\u001b[0m\u001b[0;34m\u001b[0m\u001b[0m\n\u001b[1;32m     22\u001b[0m     \u001b[0;32mif\u001b[0m \u001b[0mmeandim\u001b[0m \u001b[0;34m==\u001b[0m \u001b[0;36m0\u001b[0m\u001b[0;34m:\u001b[0m\u001b[0;34m\u001b[0m\u001b[0;34m\u001b[0m\u001b[0m\n\u001b[0;32m---> 23\u001b[0;31m         \u001b[0mda\u001b[0m \u001b[0;34m=\u001b[0m \u001b[0mdataset\u001b[0m\u001b[0;34m[\u001b[0m\u001b[0mspecies\u001b[0m\u001b[0;34m]\u001b[0m\u001b[0;34m.\u001b[0m\u001b[0misel\u001b[0m\u001b[0;34m(\u001b[0m\u001b[0mz\u001b[0m\u001b[0;34m=\u001b[0m\u001b[0;36m0\u001b[0m\u001b[0;34m)\u001b[0m\u001b[0;34m\u001b[0m\u001b[0;34m\u001b[0m\u001b[0m\n\u001b[0m\u001b[1;32m     24\u001b[0m         \u001b[0mlat\u001b[0m \u001b[0;34m=\u001b[0m \u001b[0mdataset\u001b[0m\u001b[0;34m[\u001b[0m\u001b[0;34m'lat'\u001b[0m\u001b[0;34m]\u001b[0m\u001b[0;34m.\u001b[0m\u001b[0mvalues\u001b[0m\u001b[0;34m\u001b[0m\u001b[0;34m\u001b[0m\u001b[0m\n\u001b[1;32m     25\u001b[0m         \u001b[0mlon\u001b[0m \u001b[0;34m=\u001b[0m \u001b[0mdataset\u001b[0m\u001b[0;34m[\u001b[0m\u001b[0;34m'lon'\u001b[0m\u001b[0;34m]\u001b[0m\u001b[0;34m.\u001b[0m\u001b[0mvalues\u001b[0m\u001b[0;34m\u001b[0m\u001b[0;34m\u001b[0m\u001b[0m\n\u001b[1;32m     26\u001b[0m     \u001b[0;32melse\u001b[0m\u001b[0;34m:\u001b[0m\u001b[0;34m\u001b[0m\u001b[0;34m\u001b[0m\u001b[0m\n",
      "\u001b[0;32m~/.local/lib/python3.10/site-packages/xarray/core/dataset.py\u001b[0m in \u001b[0;36m?\u001b[0;34m(self, key)\u001b[0m\n\u001b[1;32m   1544\u001b[0m         \u001b[0;32mif\u001b[0m \u001b[0mutils\u001b[0m\u001b[0;34m.\u001b[0m\u001b[0mhashable\u001b[0m\u001b[0;34m(\u001b[0m\u001b[0mkey\u001b[0m\u001b[0;34m)\u001b[0m\u001b[0;34m:\u001b[0m\u001b[0;34m\u001b[0m\u001b[0;34m\u001b[0m\u001b[0m\n\u001b[1;32m   1545\u001b[0m             \u001b[0;32mtry\u001b[0m\u001b[0;34m:\u001b[0m\u001b[0;34m\u001b[0m\u001b[0;34m\u001b[0m\u001b[0m\n\u001b[1;32m   1546\u001b[0m                 \u001b[0;32mreturn\u001b[0m \u001b[0mself\u001b[0m\u001b[0;34m.\u001b[0m\u001b[0m_construct_dataarray\u001b[0m\u001b[0;34m(\u001b[0m\u001b[0mkey\u001b[0m\u001b[0;34m)\u001b[0m\u001b[0;34m\u001b[0m\u001b[0;34m\u001b[0m\u001b[0m\n\u001b[1;32m   1547\u001b[0m             \u001b[0;32mexcept\u001b[0m \u001b[0mKeyError\u001b[0m \u001b[0;32mas\u001b[0m \u001b[0me\u001b[0m\u001b[0;34m:\u001b[0m\u001b[0;34m\u001b[0m\u001b[0;34m\u001b[0m\u001b[0m\n\u001b[0;32m-> 1548\u001b[0;31m                 raise KeyError(\n\u001b[0m\u001b[1;32m   1549\u001b[0m                     \u001b[0;34mf\"No variable named {key!r}. Variables on the dataset include {shorten_list_repr(list(self.variables.keys()), max_items=10)}\"\u001b[0m\u001b[0;34m\u001b[0m\u001b[0;34m\u001b[0m\u001b[0m\n\u001b[1;32m   1550\u001b[0m                 ) from e\n\u001b[1;32m   1551\u001b[0m \u001b[0;34m\u001b[0m\u001b[0m\n",
      "\u001b[0;31mKeyError\u001b[0m: \"No variable named 'CO2.01'. Variables on the dataset include ['longitude', 'latitude', 'time', 'decimal_time', 'time_components', 'bio_flux_opt', 'ocn_flux_opt', 'fossil_flux_imp', 'fire_flux_imp']\""
     ]
    }
   ],
   "source": [
    "dehm_plotter(dataset=ds1,\n",
    "             index=100,  \n",
    "#            meandim=meandim, \n",
    "             meandim=0, \n",
    "             species=species, \n",
    "             close=False, \n",
    "             central_longitude=central_longitude, \n",
    "            )\n",
    "plt.savefig('jena_ocean.png')"
   ]
  },
  {
   "cell_type": "markdown",
   "metadata": {},
   "source": [
    "### Create animation"
   ]
  },
  {
   "cell_type": "code",
   "execution_count": null,
   "metadata": {},
   "outputs": [],
   "source": [
    "if True:\n",
    "    make_frames_from_list(dataset=ds1, meandim=meandim, species=species, central_longitude=central_longitude, output_dir='frames1')\n",
    "    make_frames_from_list(dataset=ds2, meandim=meandim, species=species, central_longitude=central_longitude, output_dir='frames2')\n",
    "    #make_frames_from_list(dataset=ds3, meandim=meandim, species=species, central_longitude=central_longitude, output_dir='frames3')\n",
    "    #make_frames_from_list(dataset=ds4, meandim=meandim, species=species, central_longitude=central_longitude, output_dir='frames4')"
   ]
  },
  {
   "cell_type": "markdown",
   "metadata": {},
   "source": [
    "To make a video from the frames, run this function with the desired directory as input:\n",
    "\n",
    "> ./make_video n\n",
    "> \n",
    "> ffmpeg -y -i frames\\\\$1/frame%03d.png -c:v libx264 -pix_fmt yuv420p video/video\\\\$1.mp4\n",
    "\n",
    "n is the first argument and thus becomes $1. n is the label for the directory and output so the function reads in from frames{n} and writes to videos/video{n}.mp4."
   ]
  },
  {
   "cell_type": "code",
   "execution_count": null,
   "metadata": {},
   "outputs": [],
   "source": [
    "!./make_video 1\n",
    "!./make_video 2\n",
    "# !./make_video 3\n",
    "# !./make_video 4"
   ]
  },
  {
   "cell_type": "markdown",
   "metadata": {},
   "source": [
    "## Working with JENA netCDF data\n",
    "---"
   ]
  },
  {
   "cell_type": "markdown",
   "metadata": {},
   "source": [
    "### Functions"
   ]
  },
  {
   "cell_type": "code",
   "execution_count": 125,
   "metadata": {},
   "outputs": [],
   "source": [
    "def g(y,m,d):\n",
    "    \"\"\"\n",
    "    Returns the day number in the Gregorian calender. Check: \n",
    "    https://stackoverflow.com/a/12863278/23730517\n",
    "    for explanation.\n",
    "    \"\"\"\n",
    "    m = (m + 9) % 12\n",
    "    y = y - m//10\n",
    "    return 365*y + y//4 - y//100 + y//400 + (m*306 + 5)//10 + (d - 1)\n",
    "\n",
    "def jena_day_count(y,m,d):\n",
    "    return g(y,m,d) - g(1957,1,1)"
   ]
  },
  {
   "cell_type": "code",
   "execution_count": 132,
   "metadata": {},
   "outputs": [
    {
     "name": "stdout",
     "output_type": "stream",
     "text": [
      "d:1 is kept\n",
      "m:1 transformed to 10\n",
      "y:1957 transformed to 1956\n",
      "days before this year:\n",
      "365*yyyy + yyyy//4 - yyyy//100 + yyyy//400 =\n",
      "365*1956 + 1956//4 - 1956//100 + 1956//400 = 714414\n",
      "days from this year:\n",
      "(mm*306 + 5)//10 + (dd - 1) =\n",
      "(10*306 + 5)//10 + ( 1 - 1) =\n",
      "(   306          +     0  ) = 306\n",
      "g(1956,10, 1) = 714628\n",
      "g(1957, 1, 1) = 714720\n",
      "jena_day_count is: 0\n"
     ]
    }
   ],
   "source": [
    "y = 1957\n",
    "m = 1\n",
    "d = 1\n",
    "m_org = m\n",
    "y_org = y\n",
    "print(f\"d:{d} is kept\")\n",
    "print(f\"m:{m} transformed to {(m + 9) % 12}\")\n",
    "m = (m + 9) % 12\n",
    "print(f\"y:{y} transformed to {y - m//10}\")\n",
    "y = y - m//10\n",
    "print(f\"days before this year:\")\n",
    "print(f\"365*yyyy + yyyy//4 - yyyy//100 + yyyy//400 =\") \n",
    "print(f\"365*{y} + {y}//4 - {y}//100 + {y}//400 = {365*y + y//4 - y//100 + y//400}\") \n",
    "\n",
    "print(f\"days from this year:\")\n",
    "print(f\"(mm*306 + 5)//10 + (dd - 1) =\")\n",
    "print(f\"({m:2d}*306 + 5)//10 + ({d:2d} - 1) =\")\n",
    "print(f\"(   {(m*306 + 5)//10}          +     {(d - 1)}  ) = {(m*306 + 5)//10 + (d - 1)}\")\n",
    "\n",
    "print(f\"g({y:4d},{m:2d},{d:2d}) = {g(y,m,d)}\")\n",
    "print(\"g({0},{1:2d},{2:2d}) = {3}\".format(y_org,m_org,d,g(1957,1,1)))\n",
    "\n",
    "print(f\"jena_day_count is: {jena_day_count(y_org,m_org,d)}\")"
   ]
  },
  {
   "cell_type": "code",
   "execution_count": null,
   "metadata": {},
   "outputs": [],
   "source": [
    "def JENA_plotter(dataset, species, isel={'mtime':0}, sel={}, close=False, central_longitude=-32, output_dir='plots', figspec='pCO2'):\n",
    "    \"\"\"\n",
    "    Docstring for \"JENA_plotter\":\n",
    "        This function is used to plot netCDF files on a polar\n",
    "        stereographic map.\n",
    "\n",
    "        dataset  : A list of xarray-dataset objects with 3D field data.\n",
    "        species  : The kind to plot. For DEHM CO2 the tracers are called CO2.ntrac \n",
    "        isel/sel : A dictionary containing the variable and value or slices to choose\n",
    "                   in the form {var:val/slice/index}. \"isel\" goes\n",
    "                   by index and \"sel\" goes by value.\n",
    "        meandim  : Calculate the mean over this dimension. Most often 'time' or 'z'.\n",
    "\n",
    "        The function creates a plot and optionally saves and closes the plot again. The\n",
    "        plot is saved under the name:\n",
    "        \n",
    "            f'{output_dir}/{figname}.png'\n",
    "    \"\"\"\n",
    "    # Select values by index/slice/value.\n",
    "    if isel:\n",
    "        da = dataset[species].isel(isel)\n",
    "    if sel:\n",
    "        da = dataset[species].sel(sel)\n",
    "    else:\n",
    "        da = dataset[species].isel(mtime=0)\n",
    "\n",
    "    # Set latitude and longitude values\n",
    "    lat, lon = da['lat'].values, da['lon'].values\n",
    "    \n",
    "    # plot the first layer\n",
    "    pdata = da.values\n",
    "    \n",
    "    # This is the map projection we want to plot *onto*\n",
    "    map_proj = ccrs.NorthPolarStereo(central_longitude=central_longitude)\n",
    "    fig, ax = plt.subplots(subplot_kw={'projection': map_proj}, figsize=(7,7))\n",
    "\n",
    "    # Set appearance for coastlines\n",
    "    ax.coastlines(color='black',zorder=2,alpha=1,linewidth=1.5)\n",
    "\n",
    "    # Set appearance for gridlines\n",
    "    gl = ax.gridlines(draw_labels=True, zorder=1, alpha=0.7, linewidth=1, crs=ccrs.PlateCarree())\n",
    "\n",
    "    # Set label size\n",
    "    gl.xlabel_style = {'size':7}\n",
    "    gl.ylabel_style = {'size':7}\n",
    "\n",
    "    # Set colormap\n",
    "    cmap = plt.get_cmap('jet')\n",
    "    cmap.set_bad('w',1.0)\n",
    "    \n",
    "    # Plot image\n",
    "    im = ax.pcolormesh(lon,\n",
    "                       lat,\n",
    "                       pdata,\n",
    "                       cmap=cmap,\n",
    "#                      vmin=-0.1, # Min value for colormap (especially used for videos)\n",
    "#                      vmax=14,   # Max value for colormap\n",
    "                       transform=ccrs.PlateCarree(),\n",
    "                       zorder=0,  # ?\n",
    "                       shading='auto')\n",
    "\n",
    "    # Set Colorbar\n",
    "    fig.colorbar(im, ax=ax)\n",
    "\n",
    "    # Check if plot should be closed and saved instead of shown (Used for creating frames)\n",
    "    if close:\n",
    "        figname = f'plot_{figspec}.png'\n",
    "        plt.savefig(f'{output_dir}/{figname}.png')\n",
    "        plt.close(fig)"
   ]
  },
  {
   "cell_type": "markdown",
   "metadata": {
    "jp-MarkdownHeadingCollapsed": true
   },
   "source": [
    "### Plotting"
   ]
  },
  {
   "cell_type": "code",
   "execution_count": null,
   "metadata": {},
   "outputs": [],
   "source": [
    "# Find the index for a specific time:\n",
    "# 2011 = 19723\n",
    "ymd = [2020, 6, 1]\n",
    "sel_time = f'{ymd[0]:4d}-{ymd[1]:2d}-{ymd[2]:2d}'\n",
    "sel_time_year = np.argwhere(ds.mtime.values==ds.mtime.sel(mtime=sel_time,method='nearest').values)[0]\n",
    "\n",
    "# Example of using slice to select slices of the data. \n",
    "# This can both be done with isel (using index) or sel (using values)\n",
    "_ = ds['mtime'].isel({'mtime':slice(sel_time_year[0],sel_time_year[0]+30)})\n",
    "del _"
   ]
  },
  {
   "cell_type": "code",
   "execution_count": null,
   "metadata": {
    "scrolled": true
   },
   "outputs": [],
   "source": [
    "species = 'pCO2'\n",
    "# domain 4\n",
    "sel={'mtime':ds['mtime'].values[0], 'lat':slice(55.0,57.0), 'lon':slice(8.0,16.0)}\n",
    "# Domain 1\n",
    "sel={'mtime':ds['mtime'].values[0], 'lat':slice(20.0,90.0), 'lon':slice(-180.0,180.0)}\n",
    "central_longitude=-32\n",
    "# print(ds[species].sel(sel)) # Testing settings"
   ]
  },
  {
   "cell_type": "code",
   "execution_count": null,
   "metadata": {},
   "outputs": [],
   "source": [
    "JENA_plotter(dataset=ds,\n",
    "             species=species,\n",
    "             sel=sel,\n",
    "             central_longitude=central_longitude,\n",
    "             output_dir='plots',\n",
    "             figspec='pCO2',\n",
    "            )"
   ]
  },
  {
   "cell_type": "markdown",
   "metadata": {
    "jp-MarkdownHeadingCollapsed": true
   },
   "source": [
    "## Working with CAMS-GLOB netCDF data\n",
    "---"
   ]
  },
  {
   "cell_type": "markdown",
   "metadata": {},
   "source": [
    "### info"
   ]
  },
  {
   "cell_type": "markdown",
   "metadata": {},
   "source": [
    "#### Key names/descriptions\n",
    "*get by calling:* list(ds.data_vars)\n",
    " 1. ags - Agricultural soil\n",
    " 2. ene - Power generation\n",
    " 3. fef - Fugitive emissions from fuels\n",
    " 4. ind - Industrial processes\n",
    " 5. ref - Refineries and fuel industries\n",
    " 6. res - Residential\n",
    " 7. shp - Ships\n",
    " 8. slv - Solvents application and production\n",
    " 9. sum - Sum of sectors\n",
    "10. swd - Solid waste and wastewater handeling\n",
    "11. tnr - Non-road transport\n",
    "12. tro - Road transport"
   ]
  },
  {
   "cell_type": "markdown",
   "metadata": {},
   "source": [
    "### Plotting"
   ]
  },
  {
   "cell_type": "code",
   "execution_count": null,
   "metadata": {},
   "outputs": [],
   "source": [
    "species = 'ind'\n",
    "#species = list(ds.data_vars)[5]\n",
    "\n",
    "print('species:', species)\n",
    "\n",
    "sel_eu = {'time':'2024-06-01', 'lat':slice(40.0,60.0), 'lon':slice(-10.0,40.0)}\n",
    "sel_dk = {'time':'2024-06-01', 'lat':slice(54.0,58.0), 'lon':slice(7.0,15.5)}\n",
    "sel = sel_eu\n",
    "\n",
    "# Select values by index/slice/value.\n",
    "da = ds[species].sel(sel)\n",
    "\n",
    "# Set latitude and longitude values\n",
    "lat, lon = da['lat'].values, da['lon'].values\n",
    "\n",
    "# plot the first layer\n",
    "pdata = da.values\n",
    "\n",
    "# This is the map projection we want to plot *onto*\n",
    "map_proj = ccrs.NorthPolarStereo(central_longitude=32)\n",
    "fig, ax = plt.subplots(subplot_kw={'projection': ccrs.NorthPolarStereo(central_longitude=-32)}, figsize=(15,7))\n",
    "ax.coastlines(color='black',zorder=2,alpha=1,linewidth=1.5)\n",
    "gl = ax.gridlines(draw_labels=True,zorder=1,alpha=0.5,linewidth=0.5,crs=ccrs.PlateCarree())\n",
    "gl.xlabel_style = {'size':7}\n",
    "gl.ylabel_style = {'size':7}\n",
    "\n",
    "cmap = plt.get_cmap('jet')\n",
    "cmap.set_bad('w',1.0)\n",
    "\n",
    "im = ax.pcolormesh(lon, lat, pdata, cmap=cmap,\n",
    "     vmin=0, vmax=1e-8,\n",
    "    transform=ccrs.PlateCarree(),\n",
    "    zorder=0, shading='auto')\n",
    "\n",
    "plt.colorbar(im, ax=ax, orientation='vertical',label=species)\n",
    "plt.show();"
   ]
  },
  {
   "cell_type": "markdown",
   "metadata": {
    "jp-MarkdownHeadingCollapsed": true
   },
   "source": [
    "#### Check sum - OK  <span style=\"color:green\">&check;</span>"
   ]
  },
  {
   "cell_type": "code",
   "execution_count": null,
   "metadata": {},
   "outputs": [],
   "source": [
    "# Checking if the key 'sum' is equal to the actual sum.\n",
    "from decimal import *\n",
    "\n",
    "getcontext().prec = 12\n",
    "\n",
    "ds_no_sum = ds.drop_vars('sum')\n",
    "sum_sample = 0\n",
    "\n",
    "ds_no_sum = ds_no_sum.sel(time='2023-01-01', lat=0, lon=0, method='nearest')\n",
    "\n",
    "for key in ds_no_sum:\n",
    "    sum_sample =+ ds_no_sum[key].values\n",
    "\n",
    "print('Manual sum:', f'{sum_sample:+.8e}')\n",
    "print('Automatic sum:', ds['sum'].sel(time='2023-01-01', lat=0, lon=0, method='nearest').values)\n",
    "if np.isclose(sum_sample,ds['sum'].sel(time='2023-01-01', lat=0, lon=0, method='nearest').values):\n",
    "    print(\"'sum' is correct!\", bcolors.OKGREEN + u'\\u2713' + bcolors.ENDC)\n"
   ]
  },
  {
   "cell_type": "markdown",
   "metadata": {
    "jp-MarkdownHeadingCollapsed": true
   },
   "source": [
    "## Working with CAMS-REG netCDF data\n",
    "---"
   ]
  },
  {
   "cell_type": "markdown",
   "metadata": {
    "jp-MarkdownHeadingCollapsed": true
   },
   "source": [
    "## Working with CarbonTracker data\n",
    "---"
   ]
  },
  {
   "cell_type": "markdown",
   "metadata": {
    "jp-MarkdownHeadingCollapsed": true
   },
   "source": [
    "### Emission types\n",
    "1. Biosphere flux\n",
    "2. ocean flux\n",
    "3. fossil fuel flux\n",
    "4. forest fire flux"
   ]
  },
  {
   "cell_type": "markdown",
   "metadata": {},
   "source": [
    "### Plotting"
   ]
  },
  {
   "cell_type": "code",
   "execution_count": null,
   "metadata": {},
   "outputs": [],
   "source": [
    "#species = []\n",
    "species = list(ds.data_vars)[1:5]\n",
    "\n",
    "print('species:', species[:])\n",
    "print('--------------------------')\n",
    "\n",
    "sel_eu = {'latitude_source':slice(40.0,60.0), 'longitude_source':slice(-10.0,40.0)}\n",
    "sel_dk = {'latitude_source':slice(54.0,58.0), 'longitude_source':slice(7.0,15.5)}\n",
    "sel_area = sel_eu\n",
    "\n",
    "sel_category = None\n",
    "if False:\n",
    "    sel_category = {emis_category_index}\n",
    "\n",
    "# Select values by index/slice/value.\n",
    "if sel_category:\n",
    "    da = ds[species].sel(sel_area,sel_category)\n",
    "else:\n",
    "    da = ds[species].sel(sel_area)\n",
    "\n",
    "# Set latitude and longitude values\n",
    "lat, lon = da['lat'].values, da['lon'].values\n",
    "\n",
    "# plot the first layer\n",
    "pdata = da.values\n",
    "\n",
    "# This is the map projection we want to plot *onto*\n",
    "map_proj = ccrs.NorthPolarStereo(central_longitude=32)\n",
    "fig, ax = plt.subplots(subplot_kw={'projection': ccrs.NorthPolarStereo(central_longitude=-32)}, figsize=(15,7))\n",
    "ax.coastlines(color='black',zorder=2,alpha=1,linewidth=1.5)\n",
    "gl = ax.gridlines(draw_labels=True,zorder=1,alpha=0.5,linewidth=0.5,crs=ccrs.PlateCarree())\n",
    "gl.xlabel_style = {'size':7}\n",
    "gl.ylabel_style = {'size':7}\n",
    "\n",
    "cmap = plt.get_cmap('jet')\n",
    "cmap.set_bad('w',1.0)\n",
    "\n",
    "im = ax.pcolormesh(lon, lat, pdata, cmap=cmap,\n",
    "     vmin=0, vmax=1e-8,\n",
    "    transform=ccrs.PlateCarree(),\n",
    "    zorder=0, shading='auto')\n",
    "\n",
    "plt.colorbar(im, ax=ax, orientation='vertical',label=species)\n",
    "plt.show();"
   ]
  },
  {
   "cell_type": "code",
   "execution_count": null,
   "metadata": {},
   "outputs": [],
   "source": []
  }
 ],
 "metadata": {
  "kernelspec": {
   "display_name": "Python 3 (ipykernel)",
   "language": "python",
   "name": "python3"
  },
  "language_info": {
   "codemirror_mode": {
    "name": "ipython",
    "version": 3
   },
   "file_extension": ".py",
   "mimetype": "text/x-python",
   "name": "python",
   "nbconvert_exporter": "python",
   "pygments_lexer": "ipython3",
   "version": "3.12.4"
  }
 },
 "nbformat": 4,
 "nbformat_minor": 4
}
