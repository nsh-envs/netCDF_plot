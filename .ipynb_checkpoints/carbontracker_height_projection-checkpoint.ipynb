{
 "cells": [
  {
   "cell_type": "code",
   "execution_count": 1,
   "id": "596e621e-bba2-45fa-b2e9-71a6bf2942fa",
   "metadata": {},
   "outputs": [],
   "source": [
    "import numpy as np\n",
    "import matplotlib.pyplot as plt"
   ]
  },
  {
   "cell_type": "code",
   "execution_count": 2,
   "id": "27ee8bd5-8655-4ccf-b894-942e22dbaa77",
   "metadata": {},
   "outputs": [],
   "source": [
    "ct_mean_height = np.array([33,109,255,477,814,1273,1835,2556,3315,4205,5026,5603,6186,6771,7355,8086,\n",
    "                           8816,9400,10131,11011,11749,12492,13393,14304,15226,16322,17446,18459,20380,\n",
    "                           24376,29834,35623,42602,123210])\n",
    "upper_bound = np.array([23.08374,53.95842,92.69418,139.3762,194.109,272.8005,352.0846,472.145,634.403,\n",
    "                        799.2552,1009.179,1223.671,1667.5,2132.778,2621.598,3136.516,3680.622,4257.58,\n",
    "                        4871.828,5528.92,6235.908,7001.659,7837.523,8758.652,9786.779,10955.83,12322.15,\n",
    "                        13988.12,16262.5])\n",
    "lower_bound = np.array([0.0,23.22038,54.24406,93.13342,139.964,194.8293,273.6455,352.986,473.0139,635.087,\n",
    "                        800.0614,1011.88,1230.12,1685.043,2164.47,2670.521,3205.939,3773.771,4377.638,\n",
    "                        5021.379,5709.135,6447.051,7244.244,8112.182,9066.722,10130.23,11337.5,12741.79,\n",
    "                        14435.87])"
   ]
  },
  {
   "cell_type": "code",
   "execution_count": 29,
   "id": "6cfcebae-d1ff-4c3e-a4bb-27d0c9cc7aeb",
   "metadata": {},
   "outputs": [
    {
     "data": {
      "text/plain": [
       "(26, 29)"
      ]
     },
     "execution_count": 29,
     "metadata": {},
     "output_type": "execute_result"
    }
   ],
   "source": []
  },
  {
   "cell_type": "code",
   "execution_count": 33,
   "id": "60abf1d2-c060-4ffa-9a23-e30fa44d2c24",
   "metadata": {},
   "outputs": [
    {
     "name": "stdout",
     "output_type": "stream",
     "text": [
      "[   33   109   255   477   814  1273  1835  2556  3315  4205  5026  5603\n",
      "  6186  6771  7355  8086  8816  9400 10131 11011 11749 12492 13393 14304\n",
      " 15226 16322]\n",
      "[ 11.54187  15.36902  19.22506  23.12139  27.0725   38.9856   39.21955\n",
      "  59.5795   80.69455  82.0841  104.5588  105.8955  218.69    223.8675\n",
      " 228.564   232.9975  237.3415  241.9045  247.095   253.7705  263.3865\n",
      " 277.304   296.6395  323.235   360.0285  412.8     492.325   623.165\n",
      " 913.315  ]\n"
     ]
    }
   ],
   "source": [
    "print(ct_mean_height[:26])\n",
    "print(dehm_mean_height)"
   ]
  },
  {
   "cell_type": "code",
   "execution_count": 34,
   "id": "c73c788e-a0f9-4bae-963c-d09b8ecf32da",
   "metadata": {},
   "outputs": [
    {
     "data": {
      "text/plain": [
       "<matplotlib.image.AxesImage at 0x7f60bcbfcbe0>"
      ]
     },
     "execution_count": 34,
     "metadata": {},
     "output_type": "execute_result"
    },
    {
     "data": {
      "image/png": "[encoded data removed]",
      "text/plain": [
       "<Figure size 640x480 with 1 Axes>"
      ]
     },
     "metadata": {},
     "output_type": "display_data"
    }
   ],
   "source": [
    "nz = 29\n",
    "nzp = 26\n",
    "projection = np.zeros((nz,nzp))\n",
    "dehm_mean_height = (upper_bound + lower_bound)/2\n",
    "\n",
    "hdiff = abs(dehm_mean_height.reshape(-1,1) - ct_mean_height[:nzp])\n",
    "for i in range(nz):\n",
    "    j = np.argmin(hdiff[i,:])\n",
    "    projection[i,j] = 1\n",
    "\n",
    "plt.imshow(projection)"
   ]
  },
  {
   "cell_type": "code",
   "execution_count": 10,
   "id": "d277bc6a-3968-4e32-ae9e-85e597a7dacf",
   "metadata": {},
   "outputs": [
    {
     "name": "stdout",
     "output_type": "stream",
     "text": [
      "0.3333333333333333\n"
     ]
    }
   ],
   "source": [
    "up=3\n",
    "down=0\n",
    "d = 1\n",
    "L = (up-down)\n",
    "v = np.zeros(3)\n",
    "f = (d-down)/L\n",
    "print(f)"
   ]
  },
  {
   "cell_type": "code",
   "execution_count": null,
   "id": "b75c5487-794e-453f-8edd-54f721161148",
   "metadata": {},
   "outputs": [],
   "source": []
  }
 ],
 "metadata": {
  "kernelspec": {
   "display_name": "Python 3 (ipykernel)",
   "language": "python",
   "name": "python3"
  },
  "language_info": {
   "codemirror_mode": {
    "name": "ipython",
    "version": 3
   },
   "file_extension": ".py",
   "mimetype": "text/x-python",
   "name": "python",
   "nbconvert_exporter": "python",
   "pygments_lexer": "ipython3",
   "version": "3.10.12"
  }
 },
 "nbformat": 4,
 "nbformat_minor": 5
}
